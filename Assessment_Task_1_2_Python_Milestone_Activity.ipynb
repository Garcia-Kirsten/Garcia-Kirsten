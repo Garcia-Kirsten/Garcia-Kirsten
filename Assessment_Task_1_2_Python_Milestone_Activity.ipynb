{
  "cells": [
    {
      "cell_type": "markdown",
      "metadata": {
        "id": "view-in-github",
        "colab_type": "text"
      },
      "source": [
        "<a href=\"https://colab.research.google.com/github/Garcia-Kirsten/Garcia-Kirsten/blob/main/Assessment_Task_1_2_Python_Milestone_Activity.ipynb\" target=\"_parent\"><img src=\"https://colab.research.google.com/assets/colab-badge.svg\" alt=\"Open In Colab\"/></a>"
      ]
    },
    {
      "cell_type": "markdown",
      "metadata": {
        "id": "DVeJUmy-3rUQ"
      },
      "source": [
        "# Assessment Task 1.2 Python Milestone Activity\n",
        "IE22S2\n",
        "\n",
        "Garcia, Kirsten\n",
        "\n",
        "Marasigan, Dolly\n",
        "\n",
        "---\n",
        "\n"
      ]
    },
    {
      "cell_type": "markdown",
      "metadata": {
        "id": "EM2OcRIt5l6h"
      },
      "source": [
        "Exercise 1: Weather Monitoring System\n",
        "\n",
        "You are developing a weather monitoring system for a small town. The system needs to process temperature data in different units.\n",
        "\n",
        "Task 1: Write a function celsius_to_fahrenheit(celsius) that converts a temperature reading from Celsius to Fahrenheit for the weather reports.\n",
        "\n",
        "Task 2: Write a function fahrenheit_to_celsius(fahrenheit) that converts temperature data from the old system (which used Fahrenheit) to Celsius for consistency.\n",
        "\n",
        "Task 3: Write a function celsius_to_kelvin(celsius) that converts the temperature to Kelvin for scientific analysis.\n",
        "\n",
        "Task 4: Write a main program that simulates the input of temperature data from different sensors and converts it to the required units. The system should allow users (weather analysts) to input a temperature and select the conversion they need, displaying the converted temperature.\n",
        "\n",
        "\n"
      ]
    },
    {
      "cell_type": "code",
      "execution_count": null,
      "metadata": {
        "colab": {
          "base_uri": "https://localhost:8080/"
        },
        "id": "gjOtMzWB21hh",
        "outputId": "4a8faf96-9b98-4ee5-95ca-4c4e3c2e9e3b"
      },
      "outputs": [
        {
          "output_type": "stream",
          "name": "stdout",
          "text": [
            "Weather Monitoring System\n",
            "\n",
            "Enter the temperature: 37\n",
            "Choose conversion:\n",
            " 1) Celsius to Fahrenheit\n",
            " 2) Fahrenheit to Celsius\n",
            " 3) Celsius to Kelvin\n",
            "Enter option (1/2/3): 2\n",
            "\n",
            "37.0°F is 2.7777777777777777 in degrees Celsius\n"
          ]
        }
      ],
      "source": [
        "# TASK 1 - Conversion from Celsius to Fahrenheit\n",
        "\n",
        "def celsius_to_fahrenheit(celsius):\n",
        " return(celsius * 9/5)+32\n",
        "\n",
        "# TASK 2 - Conversion from Fahrenheit to Celsius\n",
        "\n",
        "def fahrenheit_to_celsius(fahrenheit):\n",
        "  return(fahrenheit - 32)* (5/9)\n",
        "\n",
        "# TASK 3 - Conversion from Celcius to Kelvin\n",
        "\n",
        "def celsius_to_kelvin(celsius):\n",
        "  return celsius + 273.15\n",
        "\n",
        "# TASK 4 - Main Program\n",
        "def weather_monitoring_system():\n",
        "    print(\"Weather Monitoring System\\n\")\n",
        "    temp = float(input(\"Enter the temperature: \"))\n",
        "    print(\"Choose conversion:\")\n",
        "    print(\" 1) Celsius to Fahrenheit\")\n",
        "    print(\" 2) Fahrenheit to Celsius\")\n",
        "    print(\" 3) Celsius to Kelvin\")\n",
        "    option = input(\"Enter option (1/2/3): \")\n",
        "\n",
        "    if option == '1':\n",
        "        print(f\"\\n{temp}°C is {celsius_to_fahrenheit(temp)}in degrees Fahrenheit\")\n",
        "    elif option == '2':\n",
        "        print(f\"\\n{temp}°F is {fahrenheit_to_celsius(temp)} in degrees Celsius\")\n",
        "    elif option == '3':\n",
        "        print(f\"\\n{temp}°C is {celsius_to_kelvin(temp)} in Kelvin\")\n",
        "    else:\n",
        "        print(\"\\nInvalid. Please select 1, 2, or 3.\")\n",
        "\n",
        "weather_monitoring_system()\n",
        "\n"
      ]
    },
    {
      "cell_type": "markdown",
      "metadata": {
        "id": "Wm_Jhsm1Epm-"
      },
      "source": [
        "Exercise 2: Text-Based Game Development\n",
        "\n",
        "You are part of a team developing a text-based adventure game. Players need to interact with the game by entering commands that are strings.\n",
        "\n",
        "Task 1: Write a function reverse_command(command) that reverses the player's input command for a hidden puzzle in the game.\n",
        "\n",
        "Task 2: Write a function is_palindrome(command) that checks if a command is a palindrome, which unlocks a secret door in the game.\n",
        "\n",
        "Task 3: Write a function count_vowels(command) that counts the vowels in a player's command, which determines the strength of a magical spell they cast.\n",
        "\n",
        "Task 4: Create a main program that simulates a player entering a command. Based on the command, the program should call the appropriate functions to check for puzzles, unlock secrets, or cast spells, displaying the outcomes."
      ]
    },
    {
      "cell_type": "code",
      "execution_count": null,
      "metadata": {
        "colab": {
          "base_uri": "https://localhost:8080/"
        },
        "id": "JgUJ2SXxAZtN",
        "outputId": "820081b4-5e9c-4120-8a98-31b02b0a43a8"
      },
      "outputs": [
        {
          "name": "stdout",
          "output_type": "stream",
          "text": [
            "Text-Based Adventure Game\n",
            "\n",
            "Enter a command: The quick brown fox jumps over the moon\n",
            "Reversed command: noom eht revo spmuj xof nworb kciuq ehT\n",
            "Magic Spell Strength:  11\n"
          ]
        }
      ],
      "source": [
        "# TASK 1 - Reverse player input\n",
        "\n",
        "def reverse_command(command):\n",
        "  return command [::-1]\n",
        "\n",
        "# TASK 2 - Check if palindrome\n",
        "\n",
        "def is_palindrome(command):\n",
        "  return command == command[::-1]\n",
        "\n",
        "# TASK 3 - Vowel Counter\n",
        "\n",
        "def count_vowels(command):\n",
        "  vowels = \"aeiouAEIOU\"\n",
        "  return sum(1 for char in command if char in vowels)\n",
        "\n",
        "# TASK 4: Main Program\n",
        "\n",
        "def text_game():\n",
        "  print(\"Text-Based Adventure Game\\n\")\n",
        "  command = input(\"Enter a command: \")\n",
        "\n",
        "  print(\"Reversed command:\", reverse_command(command))\n",
        "  if is_palindrome(command):\n",
        "      print(\"Secret door unlocked!\")\n",
        "  print(\"Magic Spell Strength: \", count_vowels(command))\n",
        "\n",
        "text_game()\n"
      ]
    },
    {
      "cell_type": "markdown",
      "metadata": {
        "id": "GZqHpVmyH8dx"
      },
      "source": [
        "Exercise 3: Personal Finance Manager\n",
        "\n",
        "You are building a simple personal finance manager to help users keep track of their expenses and manage their budgets.\n",
        "\n",
        "Task 1: Write a function add_income(income, total) that adds a new income amount to the total balance.\n",
        "\n",
        "Task 2: Write a function subtract_expense(expense, total) that subtracts an expense amount from the total balance.\n",
        "\n",
        "Task 3: Write a function calculate_balance(income, expenses) that calculates the remaining balance after accounting for all expenses.\n",
        "\n",
        "Task 4: Create a main program that allows users to input their income and expenses, and then use the functions to display their remaining balance. The program should also warn the user if their expenses exceed their income."
      ]
    },
    {
      "cell_type": "code",
      "execution_count": null,
      "metadata": {
        "colab": {
          "base_uri": "https://localhost:8080/"
        },
        "id": "zSRUmyL1IhZh",
        "outputId": "3f9b46a9-fb92-49b4-d6e9-64434a8166c7"
      },
      "outputs": [
        {
          "output_type": "stream",
          "name": "stdout",
          "text": [
            "Personal Finance Manager\n",
            "\n",
            "Enter your total income: 1700\n",
            "Enter your total expenses: 999\n",
            "\n",
            "Your remaining balance is: $701.0\n"
          ]
        }
      ],
      "source": [
        "# TASK 1 - Adding income to the total balance\n",
        "\n",
        "def add_income(income, total):\n",
        "  return total+income\n",
        "\n",
        "# TASK 2 - Expenses\n",
        "\n",
        "def subtract_expense(expense, total):\n",
        "  return total-expense\n",
        "\n",
        "# TASK 3 - Calculating the balance\n",
        "\n",
        "def calculate_balance(income, expenses):\n",
        "  return income-expenses\n",
        "\n",
        "# TASK 4: Main Program\n",
        "\n",
        "def finance_manager():\n",
        "   print(\"Personal Finance Manager\\n\")\n",
        "   total_income = float(input(\"Enter your total income: \"))\n",
        "   total_expenses = float(input(\"Enter your total expenses: \"))\n",
        "\n",
        "   balance = calculate_balance(total_income, total_expenses)\n",
        "   print(f\"\\nYour remaining balance is: ${balance}\")\n",
        "\n",
        "   if balance < 0:\n",
        "    print(\"\\nWarning: Your expenses exceed your income.\")\n",
        "\n",
        "finance_manager()\n"
      ]
    },
    {
      "cell_type": "markdown",
      "metadata": {
        "id": "R8VjkHbnIhsQ"
      },
      "source": [
        "Exercise 4: Event Planning System\n",
        "\n",
        "You are helping an event planner organize a series of events. The planner needs to manage guest lists and schedules effectively.\n",
        "\n",
        "Task 1: Write a function factorial(n) that calculates the factorial of the number of guests to determine the possible seating arrangements. Use recursion to implement this function.\n",
        "\n",
        "Task 2: Write a function fibonacci(n) that determines the sequence of events based on their importance (using the Fibonacci sequence to assign priorities). Use recursion to implement this function.\n",
        "\n",
        "Task 3: Write a function total_guests(events) that sums up the total number of guests across multiple events.\n",
        "\n",
        "Task 4: Create a main program that allows the event planner to input the number of guests for each event, and then calculates the possible seating arrangements and priorities of the events using the above functions. Display the results to help with planning."
      ]
    },
    {
      "cell_type": "code",
      "execution_count": null,
      "metadata": {
        "colab": {
          "base_uri": "https://localhost:8080/"
        },
        "id": "1tT7SZA3InM9",
        "outputId": "76ed6890-10e0-4436-f818-996f85fa4733"
      },
      "outputs": [
        {
          "output_type": "stream",
          "name": "stdout",
          "text": [
            "\n",
            "Event Planning System\n",
            "\n",
            "1. Add an event (Enter the number of guests)\n",
            "2. Show total guests across events\n",
            "3. Calculate seating arrangements (Factorial)\n",
            "4. Determine event priorities (Fibonacci)\n",
            "5. View event details\n",
            "6. Exit\n",
            "\n",
            "Enter your choice (1-6): 1\n",
            "Enter the number of guests for the event: 3\n",
            "\n",
            "Event Planning System\n",
            "\n",
            "1. Add an event (Enter the number of guests)\n",
            "2. Show total guests across events\n",
            "3. Calculate seating arrangements (Factorial)\n",
            "4. Determine event priorities (Fibonacci)\n",
            "5. View event details\n",
            "6. Exit\n",
            "\n",
            "Enter your choice (1-6): 1\n",
            "Enter the number of guests for the event: 4\n",
            "\n",
            "Event Planning System\n",
            "\n",
            "1. Add an event (Enter the number of guests)\n",
            "2. Show total guests across events\n",
            "3. Calculate seating arrangements (Factorial)\n",
            "4. Determine event priorities (Fibonacci)\n",
            "5. View event details\n",
            "6. Exit\n",
            "\n",
            "Enter your choice (1-6): 1\n",
            "Enter the number of guests for the event: 5\n",
            "\n",
            "Event Planning System\n",
            "\n",
            "1. Add an event (Enter the number of guests)\n",
            "2. Show total guests across events\n",
            "3. Calculate seating arrangements (Factorial)\n",
            "4. Determine event priorities (Fibonacci)\n",
            "5. View event details\n",
            "6. Exit\n",
            "\n",
            "Enter your choice (1-6): 2\n",
            "Total guests across all events: 12\n",
            "\n",
            "Event Planning System\n",
            "\n",
            "1. Add an event (Enter the number of guests)\n",
            "2. Show total guests across events\n",
            "3. Calculate seating arrangements (Factorial)\n",
            "4. Determine event priorities (Fibonacci)\n",
            "5. View event details\n",
            "6. Exit\n",
            "\n",
            "Enter your choice (1-6): 3\n",
            "Event 1: 3! = 6 seating arrangements\n",
            "Event 2: 4! = 24 seating arrangements\n",
            "Event 3: 5! = 120 seating arrangements\n",
            "\n",
            "Event Planning System\n",
            "\n",
            "1. Add an event (Enter the number of guests)\n",
            "2. Show total guests across events\n",
            "3. Calculate seating arrangements (Factorial)\n",
            "4. Determine event priorities (Fibonacci)\n",
            "5. View event details\n",
            "6. Exit\n",
            "\n",
            "Enter your choice (1-6): 4\n",
            "Event 1 priority: Fibonacci(0) = 0\n",
            "Event 2 priority: Fibonacci(1) = 1\n",
            "Event 3 priority: Fibonacci(2) = 1\n",
            "\n",
            "Event Planning System\n",
            "\n",
            "1. Add an event (Enter the number of guests)\n",
            "2. Show total guests across events\n",
            "3. Calculate seating arrangements (Factorial)\n",
            "4. Determine event priorities (Fibonacci)\n",
            "5. View event details\n",
            "6. Exit\n",
            "\n",
            "Enter your choice (1-6): 5\n",
            "Event 1: 3 guests\n",
            "Event 2: 4 guests\n",
            "Event 3: 5 guests\n",
            "\n",
            "Event Planning System\n",
            "\n",
            "1. Add an event (Enter the number of guests)\n",
            "2. Show total guests across events\n",
            "3. Calculate seating arrangements (Factorial)\n",
            "4. Determine event priorities (Fibonacci)\n",
            "5. View event details\n",
            "6. Exit\n",
            "\n",
            "Enter your choice (1-6): A\n",
            "Invalid choice. Please enter a number between 1 and 6.\n",
            "\n",
            "Event Planning System\n",
            "\n",
            "1. Add an event (Enter the number of guests)\n",
            "2. Show total guests across events\n",
            "3. Calculate seating arrangements (Factorial)\n",
            "4. Determine event priorities (Fibonacci)\n",
            "5. View event details\n",
            "6. Exit\n",
            "\n",
            "Enter your choice (1-6): 6\n",
            "\n",
            "Exiting Event Planning System. Thank you!\n"
          ]
        }
      ],
      "source": [
        "# TASK 1 - Possible Seating Arrangement of Guests\n",
        "\n",
        "def factorial(n):\n",
        "    if n == 0 or n == 1:\n",
        "        return 1\n",
        "    return n * factorial(n - 1)\n",
        "\n",
        "# Task 2 - Sequence of events based on importance (Fibonacci)\n",
        "\n",
        "def fibonacci(n):\n",
        "    if n == 0:\n",
        "        return 0\n",
        "    elif n == 1:\n",
        "        return 1\n",
        "    return fibonacci(n - 1) + fibonacci(n - 2)\n",
        "\n",
        "# Task 3 - Sum Total Guests\n",
        "\n",
        "def total_guests(events):\n",
        "    return sum(events)\n",
        "\n",
        "# Task 4 - Main Program\n",
        "\n",
        "def main():\n",
        "    events = []\n",
        "\n",
        "    while True:\n",
        "        print(\"\\nEvent Planning System\\n\")\n",
        "        print(\"1. Add an event (Enter the number of guests)\")\n",
        "        print(\"2. Show total guests across events\")\n",
        "        print(\"3. Calculate seating arrangements (Factorial)\")\n",
        "        print(\"4. Determine event priorities (Fibonacci)\")\n",
        "        print(\"5. View event details\")\n",
        "        print(\"6. Exit\\n\")\n",
        "\n",
        "        choice = input(\"Enter your choice (1-6): \")\n",
        "\n",
        "        if choice == '1':\n",
        "          guests = int(input(\"Enter the number of guests for the event: \"))\n",
        "          events.append(guests)\n",
        "        elif choice == '2':\n",
        "          print(f\"Total guests across all events: {total_guests(events)}\")\n",
        "        elif choice == '3':\n",
        "          for i, guests in enumerate(events):\n",
        "            print(f\"Event {i+1}: {guests}! = {factorial(guests)} seating arrangements\")\n",
        "        elif choice == '4':\n",
        "          for i in range(len(events)):\n",
        "            print(f\"Event {i+1} priority: Fibonacci({i}) = {fibonacci(i)}\")\n",
        "        elif choice == '5':\n",
        "          if events:\n",
        "            for i, guests in enumerate(events):\n",
        "              print(f\"Event {i+1}: {guests} guests\")\n",
        "          else:\n",
        "            print(\"No events added.\")\n",
        "        elif choice == '6':\n",
        "          print(\"\\nExiting Event Planning System. Thank you!\")\n",
        "          break\n",
        "        else:\n",
        "          print(\"Invalid choice. Please enter a number between 1 and 6.\")\n",
        "\n",
        "if __name__ == \"__main__\":\n",
        "  main()\n",
        "\n",
        "\n"
      ]
    },
    {
      "cell_type": "markdown",
      "metadata": {
        "id": "1g--2F_EInlA"
      },
      "source": [
        "Exercise 5: Inventory Management System\n",
        "\n",
        "You are tasked with developing an inventory management system for a small retail store. The store needs to keep track of products, their quantities, and pricing.\n",
        "\n",
        "Task 1: Write a function find_max_price(products) that finds the most expensive product in the inventory.\n",
        "\n",
        "Task 2: Write a function find_min_stock(products) that identifies the product with the lowest stock, so the store can reorder it.\n",
        "\n",
        "Task 3: Write a function average_price(products) that calculates the average price of all products to help with pricing strategies.\n",
        "\n",
        "Task 4: Write a function remove_out_of_stock(products) that removes products with zero stock from the inventory list.\n",
        "\n",
        "Task 5: Create a main program that simulates the store’s inventory management process. Allow the user (store manager) to input product details, and then use the functions to analyze and manage the inventory, providing insights such as the most expensive item, average pricing, and stock status."
      ]
    },
    {
      "cell_type": "code",
      "execution_count": null,
      "metadata": {
        "id": "0CGdHEG-Thht",
        "colab": {
          "base_uri": "https://localhost:8080/"
        },
        "outputId": "c00e15f8-3ba1-44fc-a948-b843d00344b2"
      },
      "outputs": [
        {
          "output_type": "stream",
          "name": "stdout",
          "text": [
            "Enter product name (or 'done' to finish): Rice\n",
            "Enter price: 250\n",
            "Enter stock: 15\n",
            "Enter product name (or 'done' to finish): Cooking Oil\n",
            "Enter price: 180\n",
            "Enter stock: 10\n",
            "Enter product name (or 'done' to finish): Instant Noodles\n",
            "Enter price: 15\n",
            "Enter stock: 25\n",
            "Enter product name (or 'done' to finish): done\n",
            "\n",
            "Inventory Analysis:\n",
            "Most expensive product: Rice ($250.0)\n",
            "Product with lowest stock: Cooking Oil (10)\n",
            "Average price: $148.33\n",
            "Products in stock: [{'name': 'Rice', 'price': 250.0, 'stock': 15}, {'name': 'Cooking Oil', 'price': 180.0, 'stock': 10}, {'name': 'Instant Noodles', 'price': 15.0, 'stock': 25}]\n"
          ]
        }
      ],
      "source": [
        "# TASK 1 - Most expensive product\n",
        "def find_max_price(products):\n",
        "    \"\"\"Finds the most expensive product.\"\"\"\n",
        "    if not products:  # Check if the list is empty\n",
        "        return None\n",
        "    max_price_product = products[0]\n",
        "    for product in products:\n",
        "        if product[\"price\"] > max_price_product[\"price\"]:\n",
        "            max_price_product = product\n",
        "    return max_price_product\n",
        "\n",
        "# TASK 2 - Product with lowest stock\n",
        "def find_min_stock(products):\n",
        "    \"\"\"Finds the product with the lowest stock.\"\"\"\n",
        "    if not products:\n",
        "        return None\n",
        "    min_stock_product = products[0]\n",
        "    for product in products:\n",
        "        if product[\"stock\"] < min_stock_product[\"stock\"]:\n",
        "            min_stock_product = product\n",
        "    return min_stock_product\n",
        "\n",
        "# TASK 3 - Average price of all products\n",
        "def average_price(products):\n",
        "    \"\"\"Calculates the average price of all products.\"\"\"\n",
        "    if not products:\n",
        "        return 0\n",
        "    total_price = 0\n",
        "    for product in products:\n",
        "        total_price += product[\"price\"]\n",
        "    return total_price / len(products)\n",
        "\n",
        "# TASK 4 - Removes products with zero stocks\n",
        "def remove_out_of_stock(products):\n",
        "    \"\"\"Removes out-of-stock products.\"\"\"\n",
        "    in_stock_products = []\n",
        "    for product in products:\n",
        "        if product[\"stock\"] > 0:\n",
        "            in_stock_products.append(product)\n",
        "    return in_stock_products\n",
        "\n",
        "# TASK 5 - Main program\n",
        "products = []  # List to store product details\n",
        "\n",
        "while True:\n",
        "    name = input(\"Enter product name (or 'done' to finish): \")\n",
        "    if name.lower() == \"done\":\n",
        "        break\n",
        "    price = float(input(\"Enter price: \"))\n",
        "    stock = int(input(\"Enter stock: \"))\n",
        "    products.append({\"name\": name, \"price\": price, \"stock\": stock})  # Add product to list\n",
        "\n",
        "# Analyze and display results\n",
        "if products:\n",
        "    most_expensive = find_max_price(products)\n",
        "    lowest_stock = find_min_stock(products)\n",
        "    avg_price = average_price(products)\n",
        "    in_stock = remove_out_of_stock(products)\n",
        "\n",
        "    print(\"\\nInventory Analysis:\")\n",
        "    print(f\"Most expensive product: {most_expensive['name']} (${most_expensive['price']})\")\n",
        "    print(f\"Product with lowest stock: {lowest_stock['name']} ({lowest_stock['stock']})\")\n",
        "    print(f\"Average price: ${avg_price:.2f}\")  # Format to 2 decimal places\n",
        "    print(f\"Products in stock: {in_stock}\")\n",
        "else:\n",
        "    print(\"No products entered.\")\n"
      ]
    }
  ],
  "metadata": {
    "colab": {
      "provenance": [],
      "include_colab_link": true
    },
    "kernelspec": {
      "display_name": "Python 3",
      "name": "python3"
    },
    "language_info": {
      "name": "python"
    }
  },
  "nbformat": 4,
  "nbformat_minor": 0
}